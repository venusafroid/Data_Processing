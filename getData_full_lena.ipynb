{
 "cells": [
  {
   "cell_type": "code",
   "execution_count": 3,
   "metadata": {},
   "outputs": [
    {
     "name": "stdout",
     "output_type": "stream",
     "text": [
      "dict_keys(['Trouble Shooting', 'How to', 'Pre-sale', 'After-sale'])\n"
     ]
    }
   ],
   "source": [
    "from openpyxl import load_workbook\n",
    "import random\n",
    "import io\n",
    "\n",
    "workbook = load_workbook(u'moli_for_cross_domain.xlsx')\n",
    "booksheet = workbook.active\n",
    "rows = booksheet.rows\n",
    "columns = booksheet.columns\n",
    "\n",
    "line_list = []\n",
    "for row in rows:\n",
    "    line = [col.value for col in row]\n",
    "    line_list.append(line)\n",
    "\n",
    "dict = {}\n",
    "\n",
    "for line in line_list[1:]:\n",
    "    domain = line[4]\n",
    "    supintent = line[2]\n",
    "    if domain not in dict.keys():\n",
    "        dict[domain] = {}\n",
    "    if supintent not in dict[domain].keys():\n",
    "        dict[domain][supintent] = []\n",
    "    dict[domain][supintent].append(line[1])\n",
    "\n",
    "print(dict.keys())\n",
    "# for domain in dict.keys():\n",
    "#     for supintent in dict[domain].keys():\n",
    "#             print(domain, supintent, len(dict[domain][supintent]))"
   ]
  },
  {
   "cell_type": "code",
   "execution_count": 17,
   "metadata": {},
   "outputs": [
    {
     "name": "stdout",
     "output_type": "stream",
     "text": [
      "Finish\n"
     ]
    }
   ],
   "source": [
    "train_list = []\n",
    "select_domain = 'How_to_configuration'\n",
    "print(\"supintent from \" + select_domain + \": \")\n",
    "print(len(dict[select_domain].keys()))\n",
    "# supintent_class = list(dict[select_domain].keys())\n",
    "# supintent_class_list = [[v] for v in supintent_class]\n",
    "for supintent in dict[select_domain].keys():\n",
    "    for case in dict[select_domain][supintent]:\n",
    "            text = supintent + \"\\t\" + case\n",
    "            train_list.append(text)\n",
    "random.shuffle(train_list)\n",
    "fseq = open(\"./few_shot/supintent/moli_ht/seq.in\", 'w', encoding=\"utf-8\")\n",
    "flabel = open(\"./few_shot/supintent/moli_ht/label\", 'w', encoding=\"utf-8\")\n",
    "for text in train_list:\n",
    "        text_list = text.split(\"\\t\")\n",
    "        fseq.write(text_list[1] + \"\\n\")\n",
    "        flabel.write(text_list[0] + \"\\n\")\n",
    "fseq.close()\n",
    "flabel.close()\n",
    "# fout_train = io.open(\"./moli_train_shuffle_ts_supintent.txt\", 'w', encoding=\"utf-8\")\n",
    "# random.shuffle(train_list)\n",
    "# for text in train_list:\n",
    "#     fout_train.write(text)\n",
    "# print(\"Finish\")\n",
    "print(\"Finish\")"
   ]
  },
  {
   "cell_type": "code",
   "execution_count": 4,
   "metadata": {},
   "outputs": [],
   "source": [
    "# train_list = []\n",
    "# select_domain = 'Troubleshooting_Technical_Issues'\n",
    "# # print(\"supintent from \" + select_domain + \": \")\n",
    "# # print(len(dict[select_domain].keys()))\n",
    "# # supintent_class = list(dict[select_domain].keys())\n",
    "# # supintent_class = [v.encode('utf-8') for v in supintent_class]\n",
    "# # supintent_class_list = [[v] for v in supintent_class]\n",
    "# # print(supintent_class)\n",
    "# for supintent in dict[select_domain].keys():\n",
    "#     for case in dict[select_domain][supintent]:\n",
    "#             text = supintent + \"\\t\" + case + \"\\n\"\n",
    "#             train_list.append(text)\n",
    "# random.shuffle(train_list)\n",
    "# fseq = io.open(\"./few_shot/supintent/lena_ts/seq.in\", 'w', encoding=\"utf-8\")\n",
    "# flabel = io.open(\"./few_shot/supintent/lena_ts/label\", 'w', encoding=\"utf-8\")\n",
    "# flabel.write(\" \")\n",
    "# count = 0\n",
    "# for text in train_list:\n",
    "#         text_list = text.split(\"\\t\")\n",
    "#         fseq.write(text_list[1])\n",
    "#         count += 1\n",
    "#         print(str(count), text_list[1])\n",
    "#         flabel.write(text_list[0] + \"\\n\")\n",
    "#         print(text_list[0])\n",
    "        \n",
    "\n",
    "# fout_train = io.open(\"./lena_train_shuffle_ht_supintent.txt\", 'w', encoding=\"utf-8\")\n",
    "# random.shuffle(train_list)\n",
    "# for text in train_list:\n",
    "#     fout_train.write(text)\n",
    "# print(\"Finish\")"
   ]
  },
  {
   "cell_type": "code",
   "execution_count": 19,
   "metadata": {},
   "outputs": [
    {
     "name": "stdout",
     "output_type": "stream",
     "text": [
      "supintent from How_to_configuration: \n",
      "57\n",
      "Finish\n",
      "supintent from Troubleshooting_Technical_Issues: \n",
      "124\n",
      "Finish\n"
     ]
    }
   ],
   "source": [
    "train_list = []\n",
    "select_domain = 'How_to_configuration'\n",
    "print(\"supintent from \" + select_domain + \": \")\n",
    "print(len(dict[select_domain].keys()))\n",
    "supintent_names = list(dict[select_domain].keys())\n",
    "for supintent in dict[select_domain].keys():\n",
    "    supintent_names.remove(supintent)\n",
    "    for case in dict[select_domain][supintent]:\n",
    "        # negative full\n",
    "        for negative_intent in supintent_names:\n",
    "            neg_text = \"0\\t\" + case + \"\\t\" + negative_intent\n",
    "            train_list.append(neg_text)\n",
    "        text = \"1\\t\" + case + \"\\t\" + supintent\n",
    "        train_list.append(text)\n",
    "    supintent_names.append(supintent)\n",
    "random.shuffle(train_list)\n",
    "fdata = open(\"./esim/lena_ht/data_test.txt\", 'w', encoding=\"utf-8\")\n",
    "for text in train_list:\n",
    "        fdata.write(text + \"\\n\")\n",
    "fdata.close()\n",
    "print(\"Finish\")\n",
    "train_list = []\n",
    "select_domain = 'Troubleshooting_Technical_Issues'\n",
    "print(\"supintent from \" + select_domain + \": \")\n",
    "print(len(dict[select_domain].keys()))\n",
    "supintent_names = list(dict[select_domain].keys())\n",
    "for supintent in dict[select_domain].keys():\n",
    "    supintent_names.remove(supintent)\n",
    "    for case in dict[select_domain][supintent]:\n",
    "        # negative full\n",
    "        for negative_intent in supintent_names:\n",
    "            neg_text = \"0\\t\" + case + \"\\t\" + negative_intent\n",
    "            train_list.append(neg_text)\n",
    "        text = \"1\\t\" + case + \"\\t\" + supintent\n",
    "        train_list.append(text)\n",
    "    supintent_names.append(supintent)\n",
    "random.shuffle(train_list)\n",
    "fdata = open(\"./esim/lena_ts/data_test.txt\", 'w', encoding=\"utf-8\")\n",
    "for text in train_list:\n",
    "        fdata.write(text + \"\\n\")\n",
    "fdata.close()\n",
    "print(\"Finish\")"
   ]
  },
  {
   "cell_type": "code",
   "execution_count": 20,
   "metadata": {},
   "outputs": [
    {
     "name": "stdout",
     "output_type": "stream",
     "text": [
      "2099196\n"
     ]
    }
   ],
   "source": [
    "fdata = open(\"./esim/lena_ts/data_test.txt\", 'r', encoding=\"utf-8\")\n",
    "lines = fdata.readlines()\n",
    "print(len(lines))"
   ]
  },
  {
   "cell_type": "code",
   "execution_count": 24,
   "metadata": {},
   "outputs": [
    {
     "name": "stdout",
     "output_type": "stream",
     "text": [
      "supintent from How_to_configuration: \n",
      "57\n",
      "supintent from Troubleshooting_Technical_Issues: \n",
      "124\n",
      "Finish\n"
     ]
    }
   ],
   "source": [
    "train_list = []\n",
    "select_domains = ['How_to_configuration', 'Troubleshooting_Technical_Issues']\n",
    "for select_domain in select_domains:\n",
    "    print(\"supintent from \" + select_domain + \": \")\n",
    "    print(len(dict[select_domain].keys()))\n",
    "    supintent_names = list(dict[select_domain].keys())\n",
    "    for supintent in dict[select_domain].keys():\n",
    "        supintent_names.remove(supintent)\n",
    "        for case in dict[select_domain][supintent]:\n",
    "                # negative sampling\n",
    "                negative_set = random.sample(range(0, len(supintent_names)), 1)\n",
    "                neg_text = \"0\\t\" + case + \"\\t\" + supintent_names[negative_set[0]]\n",
    "                text = \"1\\t\" + case + \"\\t\" + supintent\n",
    "                train_list.append(text)\n",
    "                train_list.append(neg_text)\n",
    "        supintent_names.append(supintent)\n",
    "random.shuffle(train_list)\n",
    "fdata = open(\"./esim/lena_ht_ts/data.txt\", 'w', encoding=\"utf-8\")\n",
    "for text in train_list:\n",
    "        fdata.write(text + \"\\n\")\n",
    "fdata.close()\n",
    "print(\"Finish\")"
   ]
  },
  {
   "cell_type": "code",
   "execution_count": null,
   "metadata": {},
   "outputs": [],
   "source": []
  }
 ],
 "metadata": {
  "kernelspec": {
   "display_name": "Python 3",
   "language": "python",
   "name": "python3"
  },
  "language_info": {
   "codemirror_mode": {
    "name": "ipython",
    "version": 3
   },
   "file_extension": ".py",
   "mimetype": "text/x-python",
   "name": "python",
   "nbconvert_exporter": "python",
   "pygments_lexer": "ipython3",
   "version": "3.6.5"
  }
 },
 "nbformat": 4,
 "nbformat_minor": 2
}
