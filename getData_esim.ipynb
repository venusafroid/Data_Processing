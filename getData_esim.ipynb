{
 "cells": [
  {
   "cell_type": "code",
   "execution_count": 1,
   "metadata": {},
   "outputs": [],
   "source": [
    "from openpyxl import load_workbook\n",
    "import random\n",
    "import io\n",
    "\n",
    "workbook = load_workbook(u'lena_for_cross_domain.xlsx')\n",
    "booksheet = workbook.active\n",
    "rows = booksheet.rows\n",
    "columns = booksheet.columns\n",
    "\n",
    "line_list = []\n",
    "for row in rows:\n",
    "    line = [col.value for col in row]\n",
    "    line_list.append(line)\n",
    "    \n",
    "dict = {}\n",
    "utters = []\n",
    "utter_subintents = []\n",
    "for line in line_list[1:]:\n",
    "    utters.append(line[1])\n",
    "    utter_subintents.append(line[2])\n",
    "    supintent = line[2]\n",
    "    if supintent not in dict.keys():\n",
    "        dict[supintent] = []\n",
    "    dict[supintent].append(line[1])\n",
    "    \n",
    "def movestopwords(sentence):\n",
    "    counts = {}\n",
    "    for sen in sentence:\n",
    "        for word in sen.split():\n",
    "            if len(word) != 1:\n",
    "                counts[word] = counts.get(word,0) + 1\n",
    "    return counts"
   ]
  },
  {
   "cell_type": "code",
   "execution_count": 4,
   "metadata": {},
   "outputs": [
    {
     "name": "stdout",
     "output_type": "stream",
     "text": [
      "Finish\n"
     ]
    }
   ],
   "source": [
    "dict_count = {} \n",
    "supintent_f_in_cases = []\n",
    "subintents = []\n",
    "for k,v in dict.items():\n",
    "    subintents.append(k)\n",
    "    dict_count[k] = movestopwords(v)\n",
    "train_list = []\n",
    "for i in range(len(utters)):\n",
    "    sort_ = {}\n",
    "    d = dict_count[utter_subintents[i]] # utter对应的label下的utter集合的词频统计\n",
    "    for k in subintents: # k个label\n",
    "        sort_i = 0\n",
    "        for ki in k.split():\n",
    "            if ki in dict_count[utter_subintents[i]].keys():\n",
    "                sort_i += dict_count[utter_subintents[i]][ki]\n",
    "            else:\n",
    "                sort_i += 0\n",
    "        sort_[k] = sort_i\n",
    "    c_order = sorted(sort_.items(),key=lambda x:x[1],reverse=True)\n",
    "    c_order = c_order[:10]\n",
    "    # negative full\n",
    "    for negative_subintent in c_order:\n",
    "        neg_text = \"0\\t\" + utters[i] + \"\\t\" + negative_subintent[0]\n",
    "        train_list.append(neg_text)\n",
    "    text = \"1\\t\" + utters[i] + \"\\t\" + utter_subintents[i]\n",
    "    train_list.append(text)\n",
    "random.shuffle(train_list)\n",
    "fdata = open(\"./esim/lena/data_test_10.txt\", 'w', encoding=\"utf-8\")\n",
    "for text in train_list:\n",
    "        fdata.write(text + \"\\n\")\n",
    "fdata.close()\n",
    "print(\"Finish\")"
   ]
  },
  {
   "cell_type": "code",
   "execution_count": 6,
   "metadata": {},
   "outputs": [
    {
     "name": "stdout",
     "output_type": "stream",
     "text": [
      "Finish\n"
     ]
    }
   ],
   "source": [
    "train_list = []\n",
    "supintent_names = list(dict.keys())\n",
    "for supintent in dict.keys():\n",
    "    supintent_names.remove(supintent)\n",
    "    for case in dict[supintent][:1000]:\n",
    "        # negative full\n",
    "        for negative_intent in supintent_names:\n",
    "            neg_text = \"0\\t\" + case + \"\\t\" + negative_intent\n",
    "            train_list.append(neg_text)\n",
    "        text = \"1\\t\" + case + \"\\t\" + supintent\n",
    "        train_list.append(text)\n",
    "    supintent_names.append(supintent)\n",
    "random.shuffle(train_list)\n",
    "fdata = open(\"./esim/lena/data_test.txt\", 'w', encoding=\"utf-8\")\n",
    "for text in train_list:\n",
    "        fdata.write(text + \"\\n\")\n",
    "fdata.close()\n",
    "print(\"Finish\")"
   ]
  },
  {
   "cell_type": "code",
   "execution_count": null,
   "metadata": {},
   "outputs": [],
   "source": []
  }
 ],
 "metadata": {
  "kernelspec": {
   "display_name": "Python 3",
   "language": "python",
   "name": "python3"
  },
  "language_info": {
   "codemirror_mode": {
    "name": "ipython",
    "version": 3
   },
   "file_extension": ".py",
   "mimetype": "text/x-python",
   "name": "python",
   "nbconvert_exporter": "python",
   "pygments_lexer": "ipython3",
   "version": "3.6.5"
  }
 },
 "nbformat": 4,
 "nbformat_minor": 2
}
