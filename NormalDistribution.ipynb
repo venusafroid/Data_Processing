import pandas as pd # 导入另一个包“pandas” 命名为 pd，理解成pandas是在 numpy 基础上的升级包
import numpy as np #导入一个数据分析用的包“numpy” 命名为 np
import matplotlib.pyplot as plt # 导入 matplotlib 命名为 plt，类似 matlab，集成了许多可视化命令
import math
#jupyter 的魔术关键字（magic keywords）
#在文档中显示 matplotlib 包生成的图形
# 设置图形的风格
%matplotlib inline 
%config InlineBackend.figure_format = 'retina'

data = pd.read_csv('lena_for_cross_domain_ht.csv') #载入数据文件
len(data) #查看数据长度
data_moli = pd.read_csv('moli_for_cross_domain_ht.csv') #载入数据文件
len(data_moli) #查看数据长度
