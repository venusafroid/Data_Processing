{
 "cells": [
  {
   "cell_type": "code",
   "execution_count": 9,
   "metadata": {},
   "outputs": [],
   "source": [
    "def movestopwords(sentence):\n",
    "    counts = {}\n",
    "    for sen in sentence:\n",
    "        for word in sen.split():\n",
    "            if len(word) != 1:\n",
    "                counts[word] = counts.get(word,0) + 1\n",
    "    return counts"
   ]
  },
  {
   "cell_type": "code",
   "execution_count": 10,
   "metadata": {},
   "outputs": [],
   "source": [
    "from openpyxl import load_workbook\n",
    "import random\n",
    "import io\n",
    "\n",
    "workbook = load_workbook(u'moli_for_cross_domain.xlsx')\n",
    "booksheet = workbook.active\n",
    "rows = booksheet.rows\n",
    "columns = booksheet.columns\n",
    "line_list = []\n",
    "for row in rows:\n",
    "    line = [col.value for col in row]\n",
    "    line_list.append(line)\n",
    "\n",
    "dict = {}\n",
    "cases = []\n",
    "case_subintents = []\n",
    "for line in line_list[1:]:\n",
    "    cases.append(line[1])\n",
    "    case_subintents.append(line[2])\n",
    "    supintent = line[2]\n",
    "    if supintent not in dict.keys():\n",
    "        dict[supintent] = []\n",
    "    dict[supintent].append(line[1])\n",
    "\n",
    "# for supintent in dict.keys():\n",
    "#     print(supintent, len(dict[supintent]))\n",
    "    "
   ]
  },
  {
   "cell_type": "code",
   "execution_count": 15,
   "metadata": {},
   "outputs": [
    {
     "name": "stdout",
     "output_type": "stream",
     "text": [
      "['unable to sync', 'cannot hear ringtone', 'cannot be heard', 'will not charge', 'cannot connect to pc via usb', 'signal or network issue', 'screen goes black during the call', 'voicemail issue', 'Hot spots and tethering', 'overheating', 'Control app permissions', 'Delete photos or videos', 'cannot update software', 'unable to call or receive call', 'battery discharge', 'Share or receive with NFC', 'cannot hear', 'Unlock bootloader', 'google play store problems', 'not enough internal storage', 'vibration broken', 'camera will not focus', 'External reset', 'Back up apps and settings', 'mobile hotspot issue', 'volte not working', 'microphone audio problems', 'charger broken', 'Check for phone software updates', 'Get apps', 'System flash', 'cannot power on', 'random shut down', 'International carrier support', 'lost contacts on the phone', 'lines or spots on display', 'screen overlay issue', 'Unfortunately, System UI has stopped', 'cannot move apps to sd card', 'Use song file as ringtone', 'bluetooth pair connection or sync contact issue', 'messaging problem', 'Unlock the phone to use with another carrier', 'Recover recently deleted files', 'dropping', 'gps not working', 'Phone storage option', 'Use call recording', 'charging port broken', 'random reboot', 'speaker audio problems', 'virtual navigation keys issue', 'bluetooth device audio problems', 'audio connection broken', 'Find IMEI for the phone', 'camera app will not launch', 'Forget screen lock, pattern, pin, or password', 'touch screen non responsive or delayed response', 'Use voice typing', 'screen goes blank or displays one color', 'Analyze battery use', 'Factory Data Reset', 'Sync accounts', 'screen broken', 'proximity sensor broken', 'Computer cannot view files on SD card', 'If you lost your phone', 'Manage notifications', 'Insert and remove SIM and SD cards', 'Transfer files between phone and computer', 'ghost touch', 'Transfer files from previous phone to current phone', 'Stop Pop-up ads', 'cannot make wi-fi calls', 'cannot connect to wifi', 'volume button broken', 'Take a photo', 'charging cable broken', 'repair', 'Send new Email', 'system becomes slow', 'Set ringtone for contact', 'Change intensity, vibrations features', 'Project your screen to TV', 'camera cannot toggling rear to forward facing', 'sim card not recognized', 'rear or front camera no image or video poor quality image or video', 'Turn on call waiting', 'Take and share screenshots', 'will not power off', 'app will not open crashes freezes or stucks', \"SD card - can't view files\", 'stuck in airplane mode', 'display flickering', 'screen burning', 'cannot activate or register', 'Turn on/off keyboard vibrations and sounds', 'Clear cache partition', 'screen time out issue', 'Ask for manual', 'screen freeze', 'gmail problems', 'SD card - Phone stopped reading SD card', 'Make video calls', 'keyboard not working', 'Diagnose in safe mode', 'contacts issue', 'Get USB drivers for PC or Mac', 'wired headset audio problems', 'Change storage type', 'Set up voicemail', 'fingerprint sensor broken', 'Scan documents with google drive', 'notification bar not working', 'Block/unblock calls and texts from contact', \"SD card - Phone doesn't recognize new SD card\", 'Move media from internal storage to SD card', 'Change font and display size', 'earpiece audio problems', 'Find photos and videos', 'Send new message', 'Delete apps', 'show caller id for incoming calls', 'cannot make video calls', 'Moto Voice', 'Ask for the previous Google account', 'sim or sd card tray broken', 'calls go to voice mail directly', 'View or free up phone storage', 'Change the default ringtone', 'Set volte', 'Make calls over Wi-Fi', 'Add Email attachment', 'Register my product', 'Make conference calls', 'Add or remove accounts', 'Record a video', 'If you have visual impairments', 'Pair with a bluetooth device', 'Share contacts', 'NFC not working', 'Find downloaded files', 'cannot record video', 'Listen to music', 'Connect to a Wi-Fi network', 'Set system notification of update', 'liquid damage', 'Set virtual navigation keys', 'camera broken', 'Use Battery Saver mode', 'screen rotate issue', 'lost media files', 'Export and import contacts', 'Use onscreen keyboard', 'Add widgets on home screen', 'Charge phone', 'Relock bootloader', 'Set up Email', 'cannot turn off internet', 'flash led broken', 'cannot screen shot', 'Manage bluetooth devices list', 'Delete browsing data', 'stuck in talkback mode', 'Screen peeling', 'Manage voicemail mailbox', \"SD card - Phone can't format SD card\", 'Screen displays yellow triangle', 'Downgrade system', 'Select SIM for cellular data', 'Connect with a USB OTG cable', 'Manage frequently used words', 'Moto Actions', 'Transfer music files', 'Check Android version', 'do not disturb automaticaly turns on or off', 'Add contacts', 'Find Serial number for the phone', 'Adjust camera settings', 'Set alarms', 'add time stamp to photos', 'Edit photos', 'video/music/media playing issue', 'Delete Emails', 'Manage fingerprints', 'Control which calendar events are shown', 'Restrict background data', 'View and manage Email attachments', 'Use location services and GPS', 'Change phone name for bluetooth', 'Update apps in play store', 'Delete contacts', 'can only make emergency call', 'Set notification light', 'Use or stop group messages', 'busy signal', 'Force stop apps', 'Add messaging signature', 'Manage screen lock', 'Show battery percentage in status bar', 'Set up SIMs by usage', 'Turn on call roaming', 'Control Email notifications', 'Save attachments from messages', 'cannot find data in settings', 'auto resets', 'notification not showing', 'Share photos and videos', 'screen lock or smart lock not working', 'Test for virus/malware', 'Store photos and videos on SD card', 'Use a flash when taking photos', 'Set up emergency information', 'Answer calls', 'Missing widgets', 'Remove widgets, shortcuts, or folders', 'Extend battery life', 'indicator led broken', 'Get phone model', 'Delete or archive messages', 'Use multiple languages', 'Print files from your phone', 'mods issue', 'Adjust volume', 'cannot changing wallpaper', 'Avoid interruptions with Do not disturb', 'Use Notification dots', 'Choose color mode', 'Use call forwarding', 'Using moto mods', 'Change default usb setting', 'voice and cellular data not working together', 'Restrict calls and messages for users', 'Use two apps at once', 'Manage calls', 'Non changeable setting', 'battery broken', 'Set up your Motorola ID', 'Add shortcuts on home screen', 'Erase SD card', 'Select SIM for text messages', 'Set network type', 'Set quick responses for calls', 'Control text messages notifications', 'Unlock your screen automatically', 'Help app', 'abnormal battery indicator', 'Clear cache or data of apps', 'Change display of contacts', 'Find Emails', 'Problem with  accessories', 'missing app after setup', 'Remake your home screen with launchers', 'Listen to FM radio', 'cannot change cellular network type', 'If you have hearing impairments', 'Limit messages in conversation', 'Listen to voicemail', 'Adjust photo size', 'Turn phone off/on', 'Modify a user', 'Optimize screen brightness for available light', 'Time zone', 'Turn off or on emergency alerts', 'Lock SIM card', 'cannot hang up', 'stuck in mute mode', 'Edit contacts', 'Gmail label', 'cannot delete media files', 'Mobile plan, insurance, or billing questions', 'hacked', 'power button broken', 'Turn off bluetooth', 'Restore apps from Play Store', 'Turn on/off cellular data', 'hide or show files', 'Copy text from a message', 'Edit videos', 'housing frame broken', 'Use beauty filter', 'screen backlight will not adjust', 'Change wallpaper', 'Change Moto Voice privacy permissions', 'Read and reply to a message', 'Use timer or stopwatch', 'Set demo mode', 'Set ascending ringtone', 'Use Airplane mode', 'Preview notifications when screen sleeps', 'Turn Wi-Fi on/off', 'Edit or delete calendar events', 'Add a user', 'Use a phone projector', 'Auto rotate', 'Customize your favorites tray', 'Remove a user', 'View and delete call history', 'Adjust ISO and other parameters', 'Motorola Account Deletion', 'Turbo charging not working', 'Eject SD card', 'Adjust screen colors at night', 'Use Google Assistant', 'Reconnect with a bluetooth device', 'Guest session', 'cannot transfer files with sd card', 'Encrypt phone or SD card', 'Enable video stabilization', 'cannot turn on app permission', 'Star your favorite contacts', 'Change format of times or dates', 'Create calendar events', 'Adjust usage settings for paired bluetooth device', 'Remove and replace back cover', 'Set separate volume levels for notifications and ringtones', 'Forward a message', 'Search phone and web', 'Manage lock screen notifications', 'Set date and time', 'receiver broken', 'Delete internet history', 'Disable Google play service', 'Use Google Maps', 'Adjust system sounds', 'Upload photos and videos', 'Cut, copy, paste text', 'Close recent apps', 'Resize widgets on home screen', 'Tap and pay with your phone', 'Change screen timeout', 'Reset network settings', 'show caller id for outbound calls', 'Adjust screen sensitivity', 'Set cellular data limit', 'Stop moto voice commands', 'Android One', 'Organize photos and videos', 'Connect to VPNs', 'Add folders on home screen', 'Use fingerprint sensor to navigate', 'Record location tag of photo', 'Add attachments in text messages', 'Download photos', 'Scan codes with camera', 'no call logs', 'Share from google photos', 'Take black & white photos', 'Use the time and weather widget', 'Merge contacts', 'Add or delete members from group message', 'Cannot find NFC in Settings', 'Take panoramic photos', 'teamviewer support', 'Take a selfie', 'partial display', 'Set auto answer', 'update not received', 'Set up quick responses for Email', 'switch camera from front to rear', 'Use photo as wallpaper or contact photo', 'set mirror image', 'cannot use screen recording', 'Change default messaging app', 'Use recording as ringtone', 'Use plug-in headset', 'phone cannot switch carrier', 'Change default browser', 'Make calls', 'Automatic SIM selection', 'Use macro mode', 'Visit a web site', 'Find calendar events', 'Control Moto Voice notifications', 'use call and cellular data together', 'Use a screen saver', 'emoji support', 'Get repair assistant', 'Download ringtones', 'Use night mode when taking photos', 'Set default camera app', 'Read Email', 'Select SIM for calls', 'Prioritize voice or data usage for dual sims', 'Video playback', 'Add Data Saver tile to quick settings', 'Change SIM names and colors for dual SIMs', 'Turn off wireless charging sounds', 'Switch users to share your phone', 'Contact Google', 'Reboot', 'Set up find my device', 'Request delivery reports', 'Playing wav files', 'View notifications', 'Pin your screen', 'Add Email signature', 'Preview inboxes from home screen', 'Reply to or forward an Email', 'Manage text messages drafts', 'Upload music to the cloud', 'Switch browser tabs', 'Use a grid for framing', 'Use a timer when taking photos', 'Use HDR in high-contrast lighting', 'Create highlight reels', 'View in filmstrip mode', 'Open the camera', 'Take depth enabled photos', 'Remove and replace shell', 'Use voice commands for searching', 'Shrink screen for one-handed use', 'Add message to lock screen', 'Get turn-by-turn directions', 'camera setting issue', 'Damaged or missing SIM card', 'Device Help hardware test failed', 'moto actions not woking', 'cannot switch sim card for data usage', 'Problems with the Moto app', 'Send calls to voicemail', 'Find my phone number', 'Google Play services not supported', 'Change device theme', 'Digital Wellbeing', 'Install and setup LMSA', 'Manage LMSA account', 'Not receiving incoming call notification', 'Use 3rd party apps', 'How can I get a free mod?', 'What should I do if my order is on hold?', 'I want to check the status of my order', 'What should I do when I fail to check order shipping issue?', 'I want to cancel or edit my order. What should I do?', 'How can I change my delivery time?', 'Does Motorola have financing available?', \"Didn't receive order confirmation\", 'What payment method can I use to place order on website?', 'How do I know how much of my device is in stock?', 'I want to check my refund status', 'Why my order is cancelled?', 'Where to purchase Motorola phones, mods, and accessories?', 'I cannot place an order, what should I do?', 'What should I do if I have credit card issue or payment amount issue during the payment?', 'How can I get a promotion code or discount?', 'How to trade my phone in?', 'How can I purchase moto care?', 'How do I buy a phone that is not yet released?', 'Device Price', 'Why is my promotion code not working?', 'How can I verify the items on my order?', 'I need an invoice or receipt for my order.', 'How can I get tax exemption?', 'Sample Device Request', 'Can I customize my device?', 'Price adjustment', 'Package contents', 'I want to combine my order', 'What should I do if my order is back order?', 'Can I link my order to my account if I placed an order without login?', 'Where and how can I place bulk order?', 'presale shipping policy', 'Where can I purchase a phone offline?', 'What are the repair options for my charger?', 'Battery replacement', 'How can I check warranty of my device?', 'What should I do when I fail to submit the repair?', 'What are the repair options for my mobile device?', 'When you have a product repair requirement, what should you do?', 'How do I track repair status for my mobile devices?', 'How can return my device for refund?', 'Screen replacement', 'Service center', 'Warranty policy']\n"
     ]
    }
   ],
   "source": [
    "dict_count = {} \n",
    "supintent_f_in_cases = []\n",
    "subintents = []\n",
    "for k,v in dict.items():\n",
    "    subintents.append(k)\n",
    "    dict_count[k] = movestopwords(v)\n",
    "print(subintents)\n",
    "for i in range(len(cases)):\n",
    "    sort_ = {}\n",
    "    d = dict_count[case_subintents[i]] # utter对应的label下的utter集合的词频统计\n",
    "    for k in subintents: # k个label\n",
    "        sort_i = 0\n",
    "        for ki in k.split():\n",
    "            if ki in dict_count[case_subintents[i]].keys():\n",
    "                sort_i += dict_count[case_subintents[i]][ki]\n",
    "            else:\n",
    "                sort_i += 0\n",
    "        sort_[k] = sort_i\n",
    "    c_order = sorted(sort_.items(),key=lambda x:x[1],reverse=True)\n",
    "    c_order = c_order[:50] # 排名前50的label\n",
    "    \n",
    "    \n",
    "        "
   ]
  },
  {
   "cell_type": "code",
   "execution_count": null,
   "metadata": {},
   "outputs": [],
   "source": []
  }
 ],
 "metadata": {
  "kernelspec": {
   "display_name": "Python 3",
   "language": "python",
   "name": "python3"
  },
  "language_info": {
   "codemirror_mode": {
    "name": "ipython",
    "version": 3
   },
   "file_extension": ".py",
   "mimetype": "text/x-python",
   "name": "python",
   "nbconvert_exporter": "python",
   "pygments_lexer": "ipython3",
   "version": "3.6.5"
  }
 },
 "nbformat": 4,
 "nbformat_minor": 2
}
