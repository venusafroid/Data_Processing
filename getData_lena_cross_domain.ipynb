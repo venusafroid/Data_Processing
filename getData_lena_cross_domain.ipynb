{
 "cells": [
  {
   "cell_type": "code",
   "execution_count": 15,
   "metadata": {},
   "outputs": [
    {
     "name": "stdout",
     "output_type": "stream",
     "text": [
      "474\n"
     ]
    }
   ],
   "source": [
    "from openpyxl import load_workbook\n",
    "import random\n",
    "import io\n",
    "\n",
    "workbook = load_workbook(u'moli_for_cross_domain.xlsx')\n",
    "booksheet = workbook.active\n",
    "rows = booksheet.rows\n",
    "columns = booksheet.columns\n",
    "\n",
    "line_list = []\n",
    "for row in rows:\n",
    "    line = [col.value for col in row]\n",
    "    line_list.append(line)\n",
    "\n",
    "supintents = []\n",
    "utters = []\n",
    "for line in line_list[1:]:\n",
    "    supintents.append(line[2])\n",
    "    utters.append(line[1])\n",
    "    \n",
    "print(len(set(supintents)))\n",
    "dict_supintent = {}\n",
    "s_l = list(set(supintents))\n"
   ]
  },
  {
   "cell_type": "code",
   "execution_count": 16,
   "metadata": {},
   "outputs": [
    {
     "name": "stdout",
     "output_type": "stream",
     "text": [
      "{'Manage lock screen notifications': 0, 'Cut, copy, paste text': 1, 'Screen peeling': 2, 'Limit messages in conversation': 3, 'Battery replacement': 4, 'signal or network issue': 5, 'Answer calls': 6, 'Change format of times or dates': 7, 'Edit contacts': 8, 'Scan documents with google drive': 9, 'Guest session': 10, 'Get turn-by-turn directions': 11, \"SD card - Phone can't format SD card\": 12, 'dropping': 13, 'rear or front camera no image or video poor quality image or video': 14, 'Visit a web site': 15, 'cannot update software': 16, 'How can I check warranty of my device?': 17, 'Switch users to share your phone': 18, 'If you have visual impairments': 19, 'Upload music to the cloud': 20, 'Transfer files between phone and computer': 21, 'Delete browsing data': 22, 'notification not showing': 23, 'Set up find my device': 24, \"Didn't receive order confirmation\": 25, 'Take panoramic photos': 26, 'Find Emails': 27, 'Upload photos and videos': 28, 'Control app permissions': 29, 'Move media from internal storage to SD card': 30, 'Set demo mode': 31, 'Use the time and weather widget': 32, 'gps not working': 33, 'Add folders on home screen': 34, 'Set ascending ringtone': 35, 'Manage voicemail mailbox': 36, 'mobile hotspot issue': 37, 'What are the repair options for my charger?': 38, 'Delete apps': 39, 'use call and cellular data together': 40, 'cannot turn off internet': 41, 'Warranty policy': 42, 'Ask for the previous Google account': 43, 'Change default browser': 44, 'Problem with  accessories': 45, 'Restrict background data': 46, 'abnormal battery indicator': 47, 'Use or stop group messages': 48, 'Test for virus/malware': 49, 'screen lock or smart lock not working': 50, 'Turn phone off/on': 51, 'Where can I purchase a phone offline?': 52, 'Copy text from a message': 53, 'Pin your screen': 54, 'virtual navigation keys issue': 55, 'Adjust screen sensitivity': 56, 'Change phone name for bluetooth': 57, \"SD card - Phone doesn't recognize new SD card\": 58, 'Unlock your screen automatically': 59, 'Use call recording': 60, 'Send new Email': 61, 'Remove and replace back cover': 62, 'lost contacts on the phone': 63, 'Set up SIMs by usage': 64, 'Computer cannot view files on SD card': 65, 'Control Email notifications': 66, 'Restore apps from Play Store': 67, 'Check Android version': 68, 'Create highlight reels': 69, 'How can I get a promotion code or discount?': 70, 'overheating': 71, 'Get USB drivers for PC or Mac': 72, 'Install and setup LMSA': 73, 'phone cannot switch carrier': 74, 'Find downloaded files': 75, 'Listen to voicemail': 76, 'Stop moto voice commands': 77, 'What should I do when I fail to check order shipping issue?': 78, 'Use location services and GPS': 79, 'Set cellular data limit': 80, 'Store photos and videos on SD card': 81, 'cannot changing wallpaper': 82, 'screen goes black during the call': 83, 'screen time out issue': 84, 'mods issue': 85, 'Select SIM for text messages': 86, 'receiver broken': 87, 'Add contacts': 88, 'Set separate volume levels for notifications and ringtones': 89, 'Share from google photos': 90, 'When you have a product repair requirement, what should you do?': 91, 'Non changeable setting': 92, 'cannot power on': 93, 'Check for phone software updates': 94, 'Moto Actions': 95, 'Gmail label': 96, 'Choose color mode': 97, 'Damaged or missing SIM card': 98, 'teamviewer support': 99, 'Screen displays yellow triangle': 100, 'Not receiving incoming call notification': 101, 'will not charge': 102, 'cannot hear ringtone': 103, 'hide or show files': 104, 'Add or remove accounts': 105, 'Stop Pop-up ads': 106, 'How can I get tax exemption?': 107, 'Shrink screen for one-handed use': 108, 'How can I change my delivery time?': 109, 'unable to call or receive call': 110, 'random reboot': 111, 'Listen to FM radio': 112, 'cannot use screen recording': 113, 'lines or spots on display': 114, 'Set virtual navigation keys': 115, 'Set default camera app': 116, 'Help app': 117, 'Change device theme': 118, 'moto actions not woking': 119, 'Preview notifications when screen sleeps': 120, 'Reset network settings': 121, 'Record location tag of photo': 122, 'Star your favorite contacts': 123, \"SD card - can't view files\": 124, 'Manage frequently used words': 125, 'Read and reply to a message': 126, 'Use plug-in headset': 127, 'stuck in airplane mode': 128, 'Select SIM for cellular data': 129, 'Extend battery life': 130, 'update not received': 131, 'What should I do if my order is back order?': 132, 'Automatic SIM selection': 133, 'Using moto mods': 134, 'Clear cache partition': 135, 'video/music/media playing issue': 136, 'Modify a user': 137, 'Auto rotate': 138, 'touch screen non responsive or delayed response': 139, 'Edit videos': 140, 'Encrypt phone or SD card': 141, 'Manage LMSA account': 142, 'If you have hearing impairments': 143, 'unable to sync': 144, 'earpiece audio problems': 145, 'charger broken': 146, 'notification bar not working': 147, 'View or free up phone storage': 148, 'Lock SIM card': 149, 'Factory Data Reset': 150, 'Manage bluetooth devices list': 151, 'repair': 152, 'fingerprint sensor broken': 153, 'Use Google Assistant': 154, 'Digital Wellbeing': 155, 'Prioritize voice or data usage for dual sims': 156, 'Change screen timeout': 157, 'Take black & white photos': 158, 'Manage fingerprints': 159, 'How can I get a free mod?': 160, 'partial display': 161, 'cannot turn on app permission': 162, 'switch camera from front to rear': 163, 'Request delivery reports': 164, 'Set network type': 165, 'cannot hang up': 166, 'auto resets': 167, 'Turn Wi-Fi on/off': 168, 'Control which calendar events are shown': 169, 'Use two apps at once': 170, 'Set date and time': 171, 'Connect to VPNs': 172, 'flash led broken': 173, 'Adjust screen colors at night': 174, 'Resize widgets on home screen': 175, 'Edit or delete calendar events': 176, 'screen broken': 177, 'Take and share screenshots': 178, 'Use HDR in high-contrast lighting': 179, 'Use photo as wallpaper or contact photo': 180, 'Unlock the phone to use with another carrier': 181, 'messaging problem': 182, 'Change wallpaper': 183, 'Downgrade system': 184, 'Search phone and web': 185, 'Take a photo': 186, 'I want to check my refund status': 187, 'What should I do when I fail to submit the repair?': 188, 'screen freeze': 189, 'Use song file as ringtone': 190, 'screen overlay issue': 191, 'Add a user': 192, 'Transfer music files': 193, 'Set ringtone for contact': 194, 'Enable video stabilization': 195, 'calls go to voice mail directly': 196, 'Send calls to voicemail': 197, 'Turn on/off keyboard vibrations and sounds': 198, 'Turn on call roaming': 199, 'Forget screen lock, pattern, pin, or password': 200, 'Insert and remove SIM and SD cards': 201, 'random shut down': 202, 'Send new message': 203, 'Restrict calls and messages for users': 204, 'set mirror image': 205, 'How do I buy a phone that is not yet released?': 206, 'cannot record video': 207, 'wired headset audio problems': 208, 'Scan codes with camera': 209, 'What should I do if I have credit card issue or payment amount issue during the payment?': 210, 'not enough internal storage': 211, 'Select SIM for calls': 212, 'charging port broken': 213, 'Where to purchase Motorola phones, mods, and accessories?': 214, 'Relock bootloader': 215, 'Disable Google play service': 216, 'International carrier support': 217, 'cannot switch sim card for data usage': 218, 'Can I link my order to my account if I placed an order without login?': 219, 'If you lost your phone': 220, 'Remove and replace shell': 221, 'voicemail issue': 222, 'camera will not focus': 223, 'Customize your favorites tray': 224, 'Device Help hardware test failed': 225, 'camera setting issue': 226, 'Can I customize my device?': 227, 'Add shortcuts on home screen': 228, 'Set volte': 229, 'Manage notifications': 230, 'cannot make video calls': 231, 'will not power off': 232, 'Force stop apps': 233, 'Problems with the Moto app': 234, 'Add Data Saver tile to quick settings': 235, 'Use a phone projector': 236, 'Forward a message': 237, 'no call logs': 238, 'Add Email signature': 239, 'Tap and pay with your phone': 240, 'do not disturb automaticaly turns on or off': 241, 'Change storage type': 242, 'Avoid interruptions with Do not disturb': 243, 'Use Notification dots': 244, 'sim card not recognized': 245, 'Use a grid for framing': 246, 'How can return my device for refund?': 247, 'cannot hear': 248, 'Turn on call waiting': 249, 'busy signal': 250, 'Connect with a USB OTG cable': 251, 'Transfer files from previous phone to current phone': 252, 'Set up voicemail': 253, 'Turn off or on emergency alerts': 254, 'Record a video': 255, 'Merge contacts': 256, 'Use a timer when taking photos': 257, 'Use multiple languages': 258, 'Delete or archive messages': 259, 'Find calendar events': 260, 'Make calls over Wi-Fi': 261, 'Eject SD card': 262, 'Add attachments in text messages': 263, 'Adjust volume': 264, 'sim or sd card tray broken': 265, 'Use fingerprint sensor to navigate': 266, 'Use a screen saver': 267, 'SD card - Phone stopped reading SD card': 268, 'Reply to or forward an Email': 269, 'cannot screen shot': 270, 'volte not working': 271, 'Mobile plan, insurance, or billing questions': 272, 'Manage screen lock': 273, 'Analyze battery use': 274, 'power button broken': 275, 'View in filmstrip mode': 276, 'ghost touch': 277, 'Preview inboxes from home screen': 278, 'Change display of contacts': 279, 'Pair with a bluetooth device': 280, 'Register my product': 281, 'proximity sensor broken': 282, 'Set up Email': 283, 'gmail problems': 284, 'Missing widgets': 285, 'Moto Voice': 286, 'System flash': 287, 'Charge phone': 288, 'liquid damage': 289, 'Download photos': 290, 'Add message to lock screen': 291, 'Find IMEI for the phone': 292, 'Unlock bootloader': 293, 'system becomes slow': 294, 'vibration broken': 295, 'Set notification light': 296, 'Recover recently deleted files': 297, 'Set up your Motorola ID': 298, 'cannot connect to wifi': 299, 'Why is my promotion code not working?': 300, 'Time zone': 301, 'Share or receive with NFC': 302, 'Diagnose in safe mode': 303, 'Change Moto Voice privacy permissions': 304, 'Adjust usage settings for paired bluetooth device': 305, 'camera broken': 306, 'Service center': 307, 'Use voice commands for searching': 308, 'Use Battery Saver mode': 309, 'Use voice typing': 310, 'Take a selfie': 311, 'camera app will not launch': 312, 'app will not open crashes freezes or stucks': 313, 'Manage calls': 314, 'I want to check the status of my order': 315, 'add time stamp to photos': 316, 'screen goes blank or displays one color': 317, 'Where and how can I place bulk order?': 318, 'Does Motorola have financing available?': 319, 'Use recording as ringtone': 320, 'What are the repair options for my mobile device?': 321, 'Find Serial number for the phone': 322, 'Set up quick responses for Email': 323, 'Add Email attachment': 324, 'Sample Device Request': 325, 'Use beauty filter': 326, 'audio connection broken': 327, 'cannot connect to pc via usb': 328, 'screen burning': 329, 'Listen to music': 330, 'google play store problems': 331, 'Set quick responses for calls': 332, 'Download ringtones': 333, 'Set auto answer': 334, 'Hot spots and tethering': 335, 'Optimize screen brightness for available light': 336, 'cannot change cellular network type': 337, 'Take depth enabled photos': 338, 'Set system notification of update': 339, 'screen rotate issue': 340, 'Change intensity, vibrations features': 341, 'Android One': 342, 'Clear cache or data of apps': 343, 'Change default usb setting': 344, 'cannot find data in settings': 345, 'Reconnect with a bluetooth device': 346, 'Update apps in play store': 347, 'Video playback': 348, 'Change default messaging app': 349, 'Ask for manual': 350, 'stuck in mute mode': 351, 'Export and import contacts': 352, 'Delete Emails': 353, 'External reset': 354, 'can only make emergency call': 355, 'Package contents': 356, 'volume button broken': 357, 'Create calendar events': 358, 'How can I verify the items on my order?': 359, 'NFC not working': 360, 'Delete internet history': 361, 'cannot activate or register': 362, 'I want to cancel or edit my order. What should I do?': 363, 'Turn off bluetooth': 364, 'Control Moto Voice notifications': 365, 'Use a flash when taking photos': 366, 'Make conference calls': 367, 'How do I know how much of my device is in stock?': 368, 'Add widgets on home screen': 369, 'stuck in talkback mode': 370, 'Switch browser tabs': 371, 'Set alarms': 372, 'Remove a user': 373, 'display flickering': 374, 'cannot make wi-fi calls': 375, 'Print files from your phone': 376, 'Contact Google': 377, 'Google Play services not supported': 378, 'Screen replacement': 379, 'bluetooth pair connection or sync contact issue': 380, 'microphone audio problems': 381, 'Use call forwarding': 382, 'How do I track repair status for my mobile devices?': 383, 'housing frame broken': 384, 'Edit photos': 385, 'Manage text messages drafts': 386, 'Get repair assistant': 387, 'Use 3rd party apps': 388, 'Use Airplane mode': 389, 'I want to combine my order': 390, 'I need an invoice or receipt for my order.': 391, 'charging cable broken': 392, 'lost media files': 393, 'battery broken': 394, 'Control text messages notifications': 395, 'Get phone model': 396, 'Adjust system sounds': 397, 'Project your screen to TV': 398, 'What should I do if my order is on hold?': 399, 'Close recent apps': 400, 'Organize photos and videos': 401, 'speaker audio problems': 402, 'Price adjustment': 403, 'show caller id for outbound calls': 404, 'cannot be heard': 405, 'Get apps': 406, 'Adjust photo size': 407, 'hacked': 408, 'screen backlight will not adjust': 409, 'Erase SD card': 410, 'Set up emergency information': 411, 'Change font and display size': 412, 'Add messaging signature': 413, 'Use macro mode': 414, 'Motorola Account Deletion': 415, 'presale shipping policy': 416, 'Save attachments from messages': 417, 'cannot transfer files with sd card': 418, 'Sync accounts': 419, 'Connect to a Wi-Fi network': 420, 'Read Email': 421, 'Share photos and videos': 422, 'Cannot find NFC in Settings': 423, 'Show battery percentage in status bar': 424, 'Remake your home screen with launchers': 425, 'Turn off wireless charging sounds': 426, 'Playing wav files': 427, 'Change the default ringtone': 428, 'Make video calls': 429, 'contacts issue': 430, 'missing app after setup': 431, 'voice and cellular data not working together': 432, 'How to trade my phone in?': 433, 'Back up apps and settings': 434, 'I cannot place an order, what should I do?': 435, 'Adjust ISO and other parameters': 436, 'Why my order is cancelled?': 437, 'Turbo charging not working': 438, 'Use timer or stopwatch': 439, 'Use night mode when taking photos': 440, 'Adjust camera settings': 441, 'show caller id for incoming calls': 442, 'Delete contacts': 443, 'How can I purchase moto care?': 444, 'indicator led broken': 445, 'Device Price': 446, 'Block/unblock calls and texts from contact': 447, 'cannot delete media files': 448, 'View notifications': 449, 'cannot move apps to sd card': 450, 'Make calls': 451, 'Unfortunately, System UI has stopped': 452, 'battery discharge': 453, 'keyboard not working': 454, 'Turn on/off cellular data': 455, 'Use onscreen keyboard': 456, 'What payment method can I use to place order on website?': 457, 'Use Google Maps': 458, 'Phone storage option': 459, 'Share contacts': 460, 'Open the camera': 461, 'bluetooth device audio problems': 462, 'View and manage Email attachments': 463, 'Add or delete members from group message': 464, 'Remove widgets, shortcuts, or folders': 465, 'Delete photos or videos': 466, 'emoji support': 467, 'camera cannot toggling rear to forward facing': 468, 'Find photos and videos': 469, 'Change SIM names and colors for dual SIMs': 470, 'Find my phone number': 471, 'Reboot': 472, 'View and delete call history': 473}\n"
     ]
    }
   ],
   "source": [
    "for i in range(len(s_l)):\n",
    "    dict_supintent[s_l[i]] = i\n",
    "print(dict_supintent)"
   ]
  },
  {
   "cell_type": "code",
   "execution_count": null,
   "metadata": {},
   "outputs": [],
   "source": [
    "train_list = []\n",
    "for i in range(len(supintents)):\n",
    "    text = utters[i] + \"\\t\" + supintents[i]\n",
    "    train_list.append(text)\n",
    "random.shuffle(train_list)\n",
    "fseq = open(\"./few_shot_induction/lena.txt\", 'w', encoding=\"utf-8\")\n",
    "for text in train_list:\n",
    "        fseq.write(text + \"\\n\")\n",
    "fseq.close()\n",
    "print(\"Finish\")"
   ]
  },
  {
   "cell_type": "code",
   "execution_count": null,
   "metadata": {},
   "outputs": [],
   "source": [
    "from openpyxl import load_workbook\n",
    "import random\n",
    "import io\n",
    "import matplotlib.pyplot as plt \n",
    "\n",
    "workbook = load_workbook(u'moli_for_cross_domain.xlsx')\n",
    "booksheet = workbook.active\n",
    "rows = booksheet.rows\n",
    "columns = booksheet.columns\n",
    "print(\"workbook\")\n",
    "line_list = []\n",
    "for row in rows:\n",
    "    line = [col.value for col in row]\n",
    "    line_list.append(line)\n",
    "\n",
    "intents = []\n",
    "utters = []\n",
    "for line in line_list[1:]:\n",
    "    intents.append(line[2])\n",
    "    utters.append(line[1])\n",
    "print(len(set(intents)))\n",
    "\n",
    "u_dict = {}\n",
    "for u in utters:\n",
    "    if len(u) not in u_dict.keys():\n",
    "        u_dict[len(u)] = 1\n",
    "    else:\n",
    "        u_dict[len(u)] += 1\n",
    "\n",
    "x = []\n",
    "y = []\n",
    "for k, v in u_dict.items():\n",
    "    x.append(x)\n",
    "    y.append(v)\n",
    "\n",
    "plt.figure(figsize=(10, 10), dpi=80)\n",
    "width = 0.45\n",
    "p2 = plt.bar(y, x, width, label=\"num\", color=\"#87CEFA\")\n",
    "plt.xlabel('length')\n",
    "plt.ylabel('number of utterance')\n",
    "plt.title('Length Distribution')\n",
    "plt.show()"
   ]
  },
  {
   "cell_type": "code",
   "execution_count": null,
   "metadata": {},
   "outputs": [],
   "source": []
  }
 ],
 "metadata": {
  "kernelspec": {
   "display_name": "Python 3",
   "language": "python",
   "name": "python3"
  },
  "language_info": {
   "codemirror_mode": {
    "name": "ipython",
    "version": 3
   },
   "file_extension": ".py",
   "mimetype": "text/x-python",
   "name": "python",
   "nbconvert_exporter": "python",
   "pygments_lexer": "ipython3",
   "version": "3.6.5"
  }
 },
 "nbformat": 4,
 "nbformat_minor": 2
}
